{
    "cells": [
        {
            "cell_type": "code",
            "execution_count": 1,
            "metadata": {},
            "outputs": [
                {
                    "name": "stdout",
                    "output_type": "stream",
                    "text": "Solving environment: done\n\n# All requested packages already installed.\n\nLibraries imported.\n"
                }
            ],
            "source": "import numpy as np # library to handle data in a vectorized manner\n\nimport pandas as pd # library for data analsysis\npd.set_option('display.max_columns', None)\npd.set_option('display.max_rows', None)\n\nimport json # library to handle JSON files\n\n!conda install -c conda-forge geopy --yes # uncomment this line if you haven't completed the Foursquare API lab\nfrom geopy.geocoders import Nominatim # convert an address into latitude and longitude values\n\nimport requests # library to handle requests\nfrom pandas.io.json import json_normalize # tranform JSON file into a pandas dataframe\n\n# Matplotlib and associated plotting modules\nimport matplotlib.cm as cm\nimport matplotlib.colors as colors\nimport matplotlib.pyplot as plt\n\n# conda install -c anaconda beautiful-soup --yes\nfrom bs4 import BeautifulSoup # package for parsing HTML and XML documents\n\nimport csv # implements classes to read and write tabular data in CSV form\n\nprint('Libraries imported.')"
        },
        {
            "cell_type": "code",
            "execution_count": 2,
            "metadata": {},
            "outputs": [],
            "source": "website_url = requests.get('https://en.wikipedia.org/wiki/Demographics_of_New_York_City').text\nsoup = BeautifulSoup(website_url,'lxml')\ntable = soup.find('table',{'class':'wikitable sortable'})\n#print(soup.prettify())\n\nheaders = [header.text for header in table.find_all('th')]\n\ntable_rows = table.find_all('tr')        \nrows = []\nfor row in table_rows:\n   td = row.find_all('td')\n   row = [row.text for row in td]\n   rows.append(row)\n\nwith open('BON2_POPULATION1.csv', 'w') as f:\n   writer = csv.writer(f)\n   writer.writerow(headers)\n   writer.writerows(row for row in rows if row)"
        },
        {
            "cell_type": "code",
            "execution_count": 3,
            "metadata": {},
            "outputs": [
                {
                    "name": "stdout",
                    "output_type": "stream",
                    "text": "Data downloaded!\n"
                }
            ],
            "source": "Pop_data=pd.read_csv('BON2_POPULATION1.csv')\nPop_data.drop(Pop_data.columns[[7,8,9,10,11]], axis=1,inplace=True)\nprint('Data downloaded!')"
        },
        {
            "cell_type": "code",
            "execution_count": 4,
            "metadata": {},
            "outputs": [
                {
                    "data": {
                        "text/html": "<div>\n<style scoped>\n    .dataframe tbody tr th:only-of-type {\n        vertical-align: middle;\n    }\n\n    .dataframe tbody tr th {\n        vertical-align: top;\n    }\n\n    .dataframe thead th {\n        text-align: right;\n    }\n</style>\n<table border=\"1\" class=\"dataframe\">\n  <thead>\n    <tr style=\"text-align: right;\">\n      <th></th>\n      <th>NewYorkCitysfiveboroughsvte</th>\n      <th>Jurisdiction</th>\n      <th>Population</th>\n      <th>GrossDomesticProduct</th>\n      <th>Landarea</th>\n      <th>Density</th>\n      <th>persons_sq_mi</th>\n      <th>squarekm</th>\n      <th>persons/sq.mi</th>\n      <th>persons/km2</th>\n    </tr>\n  </thead>\n  <tbody>\n    <tr>\n      <th>0</th>\n      <td>The Bronx\\n</td>\n      <td>\\n  Bronx\\n</td>\n      <td>1,432,132\\n</td>\n      <td>42.695\\n</td>\n      <td>29,200\\n</td>\n      <td>42.10\\n</td>\n      <td>109.04\\n</td>\n      <td>NaN</td>\n      <td>NaN</td>\n      <td>NaN</td>\n    </tr>\n    <tr>\n      <th>1</th>\n      <td>Brooklyn\\n</td>\n      <td>\\n  Kings\\n</td>\n      <td>2,582,830\\n</td>\n      <td>91.559\\n</td>\n      <td>34,600\\n</td>\n      <td>70.82\\n</td>\n      <td>183.42\\n</td>\n      <td>NaN</td>\n      <td>NaN</td>\n      <td>NaN</td>\n    </tr>\n    <tr>\n      <th>2</th>\n      <td>Manhattan\\n</td>\n      <td>\\n  New York\\n</td>\n      <td>1,628,701\\n</td>\n      <td>600.244\\n</td>\n      <td>360,900\\n</td>\n      <td>22.83\\n</td>\n      <td>59.13\\n</td>\n      <td>NaN</td>\n      <td>NaN</td>\n      <td>NaN</td>\n    </tr>\n    <tr>\n      <th>3</th>\n      <td>Queens\\n</td>\n      <td>\\n   Queens\\n</td>\n      <td>2,278,906\\n</td>\n      <td>93.310\\n</td>\n      <td>39,600\\n</td>\n      <td>108.53\\n</td>\n      <td>281.09\\n</td>\n      <td>NaN</td>\n      <td>NaN</td>\n      <td>NaN</td>\n    </tr>\n    <tr>\n      <th>4</th>\n      <td>Staten Island\\n</td>\n      <td>\\n   Richmond\\n</td>\n      <td>476,179\\n</td>\n      <td>14.514\\n</td>\n      <td>30,300\\n</td>\n      <td>58.37\\n</td>\n      <td>151.18\\n</td>\n      <td>NaN</td>\n      <td>NaN</td>\n      <td>NaN</td>\n    </tr>\n    <tr>\n      <th>5</th>\n      <td>City of New York</td>\n      <td>8,398,748</td>\n      <td>842.343</td>\n      <td>97,700</td>\n      <td>302.64</td>\n      <td>783.83</td>\n      <td>28,188</td>\n      <td>NaN</td>\n      <td>NaN</td>\n      <td>NaN</td>\n    </tr>\n    <tr>\n      <th>6</th>\n      <td>State of New York</td>\n      <td>19,745,289</td>\n      <td>1,701.399</td>\n      <td>85,700</td>\n      <td>47,214</td>\n      <td>122,284</td>\n      <td>416.4</td>\n      <td>NaN</td>\n      <td>NaN</td>\n      <td>NaN</td>\n    </tr>\n    <tr>\n      <th>7</th>\n      <td>Sources:[14] and see individual borough articl...</td>\n      <td>NaN</td>\n      <td>NaN</td>\n      <td>NaN</td>\n      <td>NaN</td>\n      <td>NaN</td>\n      <td>NaN</td>\n      <td>NaN</td>\n      <td>NaN</td>\n      <td>NaN</td>\n    </tr>\n  </tbody>\n</table>\n</div>",
                        "text/plain": "                       NewYorkCitysfiveboroughsvte\\n   Jurisdiction\\n  \\\n0                                        The Bronx\\n      \\n  Bronx\\n   \n1                                         Brooklyn\\n      \\n  Kings\\n   \n2                                        Manhattan\\n   \\n  New York\\n   \n3                                           Queens\\n    \\n   Queens\\n   \n4                                    Staten Island\\n  \\n   Richmond\\n   \n5                                   City of New York        8,398,748   \n6                                  State of New York       19,745,289   \n7  Sources:[14] and see individual borough articl...              NaN   \n\n  Population\\n GrossDomesticProduct\\n Landarea\\n Density\\n persons_sq_mi  \\\n0  1,432,132\\n               42.695\\n   29,200\\n   42.10\\n      109.04\\n   \n1  2,582,830\\n               91.559\\n   34,600\\n   70.82\\n      183.42\\n   \n2  1,628,701\\n              600.244\\n  360,900\\n   22.83\\n       59.13\\n   \n3  2,278,906\\n               93.310\\n   39,600\\n  108.53\\n      281.09\\n   \n4    476,179\\n               14.514\\n   30,300\\n   58.37\\n      151.18\\n   \n5      842.343                 97,700     302.64    783.83        28,188   \n6    1,701.399                 85,700     47,214   122,284         416.4   \n7          NaN                    NaN        NaN       NaN           NaN   \n\n   squarekm  persons/sq.mi  persons/km2\\n  \n0       NaN            NaN            NaN  \n1       NaN            NaN            NaN  \n2       NaN            NaN            NaN  \n3       NaN            NaN            NaN  \n4       NaN            NaN            NaN  \n5       NaN            NaN            NaN  \n6       NaN            NaN            NaN  \n7       NaN            NaN            NaN  "
                    },
                    "execution_count": 4,
                    "metadata": {},
                    "output_type": "execute_result"
                }
            ],
            "source": "Pop_data.columns = Pop_data.columns.str.replace(' ', '')\nPop_data.columns = Pop_data.columns.str.replace('\\'','')\nPop_data.rename(columns={'Borough':'persons_sq_mi','County':'persons_sq_km'}, inplace=True)\nPop_data"
        },
        {
            "cell_type": "code",
            "execution_count": 5,
            "metadata": {},
            "outputs": [
                {
                    "data": {
                        "text/html": "<div>\n<style scoped>\n    .dataframe tbody tr th:only-of-type {\n        vertical-align: middle;\n    }\n\n    .dataframe tbody tr th {\n        vertical-align: top;\n    }\n\n    .dataframe thead th {\n        text-align: right;\n    }\n</style>\n<table border=\"1\" class=\"dataframe\">\n  <thead>\n    <tr style=\"text-align: right;\">\n      <th></th>\n      <th>Borough</th>\n      <th>County</th>\n      <th>Estimate_2017</th>\n      <th>GrossDomesticProduct</th>\n      <th>square_miles</th>\n      <th>square_km</th>\n      <th>persons_sq_mi</th>\n      <th>squarekm</th>\n      <th>persons/sq.mi</th>\n      <th>persons/km2</th>\n    </tr>\n  </thead>\n  <tbody>\n    <tr>\n      <th>0</th>\n      <td>The Bronx\\n</td>\n      <td>\\n  Bronx\\n</td>\n      <td>1,432,132\\n</td>\n      <td>42.695\\n</td>\n      <td>29,200\\n</td>\n      <td>42.10\\n</td>\n      <td>109.04\\n</td>\n      <td>NaN</td>\n      <td>NaN</td>\n      <td>NaN</td>\n    </tr>\n    <tr>\n      <th>1</th>\n      <td>Brooklyn\\n</td>\n      <td>\\n  Kings\\n</td>\n      <td>2,582,830\\n</td>\n      <td>91.559\\n</td>\n      <td>34,600\\n</td>\n      <td>70.82\\n</td>\n      <td>183.42\\n</td>\n      <td>NaN</td>\n      <td>NaN</td>\n      <td>NaN</td>\n    </tr>\n    <tr>\n      <th>2</th>\n      <td>Manhattan\\n</td>\n      <td>\\n  New York\\n</td>\n      <td>1,628,701\\n</td>\n      <td>600.244\\n</td>\n      <td>360,900\\n</td>\n      <td>22.83\\n</td>\n      <td>59.13\\n</td>\n      <td>NaN</td>\n      <td>NaN</td>\n      <td>NaN</td>\n    </tr>\n    <tr>\n      <th>3</th>\n      <td>Queens\\n</td>\n      <td>\\n   Queens\\n</td>\n      <td>2,278,906\\n</td>\n      <td>93.310\\n</td>\n      <td>39,600\\n</td>\n      <td>108.53\\n</td>\n      <td>281.09\\n</td>\n      <td>NaN</td>\n      <td>NaN</td>\n      <td>NaN</td>\n    </tr>\n    <tr>\n      <th>4</th>\n      <td>Staten Island\\n</td>\n      <td>\\n   Richmond\\n</td>\n      <td>476,179\\n</td>\n      <td>14.514\\n</td>\n      <td>30,300\\n</td>\n      <td>58.37\\n</td>\n      <td>151.18\\n</td>\n      <td>NaN</td>\n      <td>NaN</td>\n      <td>NaN</td>\n    </tr>\n    <tr>\n      <th>5</th>\n      <td>City of New York</td>\n      <td>8,398,748</td>\n      <td>842.343</td>\n      <td>97,700</td>\n      <td>302.64</td>\n      <td>783.83</td>\n      <td>28,188</td>\n      <td>NaN</td>\n      <td>NaN</td>\n      <td>NaN</td>\n    </tr>\n    <tr>\n      <th>6</th>\n      <td>State of New York</td>\n      <td>19,745,289</td>\n      <td>1,701.399</td>\n      <td>85,700</td>\n      <td>47,214</td>\n      <td>122,284</td>\n      <td>416.4</td>\n      <td>NaN</td>\n      <td>NaN</td>\n      <td>NaN</td>\n    </tr>\n    <tr>\n      <th>7</th>\n      <td>Sources:[14] and see individual borough articl...</td>\n      <td>NaN</td>\n      <td>NaN</td>\n      <td>NaN</td>\n      <td>NaN</td>\n      <td>NaN</td>\n      <td>NaN</td>\n      <td>NaN</td>\n      <td>NaN</td>\n      <td>NaN</td>\n    </tr>\n  </tbody>\n</table>\n</div>",
                        "text/plain": "                                             Borough           County  \\\n0                                        The Bronx\\n      \\n  Bronx\\n   \n1                                         Brooklyn\\n      \\n  Kings\\n   \n2                                        Manhattan\\n   \\n  New York\\n   \n3                                           Queens\\n    \\n   Queens\\n   \n4                                    Staten Island\\n  \\n   Richmond\\n   \n5                                   City of New York        8,398,748   \n6                                  State of New York       19,745,289   \n7  Sources:[14] and see individual borough articl...              NaN   \n\n  Estimate_2017 GrossDomesticProduct\\n square_miles square_km persons_sq_mi  \\\n0   1,432,132\\n               42.695\\n     29,200\\n   42.10\\n      109.04\\n   \n1   2,582,830\\n               91.559\\n     34,600\\n   70.82\\n      183.42\\n   \n2   1,628,701\\n              600.244\\n    360,900\\n   22.83\\n       59.13\\n   \n3   2,278,906\\n               93.310\\n     39,600\\n  108.53\\n      281.09\\n   \n4     476,179\\n               14.514\\n     30,300\\n   58.37\\n      151.18\\n   \n5       842.343                 97,700       302.64    783.83        28,188   \n6     1,701.399                 85,700       47,214   122,284         416.4   \n7           NaN                    NaN          NaN       NaN           NaN   \n\n   squarekm  persons/sq.mi  persons/km2\\n  \n0       NaN            NaN            NaN  \n1       NaN            NaN            NaN  \n2       NaN            NaN            NaN  \n3       NaN            NaN            NaN  \n4       NaN            NaN            NaN  \n5       NaN            NaN            NaN  \n6       NaN            NaN            NaN  \n7       NaN            NaN            NaN  "
                    },
                    "execution_count": 5,
                    "metadata": {},
                    "output_type": "execute_result"
                }
            ],
            "source": "Pop_data.rename(columns = {'NewYorkCitysfiveboroughsvte\\n' : 'Borough',\n                   'Jurisdiction\\n':'County',\n                   'Population\\n':'Estimate_2017', \n                   'Landarea\\n':'square_miles',\n                    'Density\\n':'square_km'}, inplace=True)\nPop_data"
        },
        {
            "cell_type": "code",
            "execution_count": 9,
            "metadata": {},
            "outputs": [
                {
                    "data": {
                        "text/html": "<div>\n<style scoped>\n    .dataframe tbody tr th:only-of-type {\n        vertical-align: middle;\n    }\n\n    .dataframe tbody tr th {\n        vertical-align: top;\n    }\n\n    .dataframe thead th {\n        text-align: right;\n    }\n</style>\n<table border=\"1\" class=\"dataframe\">\n  <thead>\n    <tr style=\"text-align: right;\">\n      <th></th>\n      <th>Borough</th>\n      <th>County</th>\n      <th>Estimate_2017</th>\n      <th>GrossDomesticProduct</th>\n      <th>square_miles</th>\n      <th>square_km</th>\n      <th>persons_sq_mi</th>\n      <th>squarekm</th>\n      <th>persons/sq.mi</th>\n      <th>persons/km2</th>\n    </tr>\n  </thead>\n  <tbody>\n    <tr>\n      <th>0</th>\n      <td>The Bronx</td>\n      <td>Bronx</td>\n      <td>1,432,132</td>\n      <td>42.695\\n</td>\n      <td>29,200</td>\n      <td>42.10</td>\n      <td>109.04</td>\n      <td>NaN</td>\n      <td>NaN</td>\n      <td>NaN</td>\n    </tr>\n    <tr>\n      <th>1</th>\n      <td>Brooklyn</td>\n      <td>Kings</td>\n      <td>2,582,830</td>\n      <td>91.559\\n</td>\n      <td>34,600</td>\n      <td>70.82</td>\n      <td>183.42</td>\n      <td>NaN</td>\n      <td>NaN</td>\n      <td>NaN</td>\n    </tr>\n    <tr>\n      <th>2</th>\n      <td>Manhattan</td>\n      <td>New York</td>\n      <td>1,628,701</td>\n      <td>600.244\\n</td>\n      <td>360,900</td>\n      <td>22.83</td>\n      <td>59.13</td>\n      <td>NaN</td>\n      <td>NaN</td>\n      <td>NaN</td>\n    </tr>\n    <tr>\n      <th>3</th>\n      <td>Queens</td>\n      <td>Queens</td>\n      <td>2,278,906</td>\n      <td>93.310\\n</td>\n      <td>39,600</td>\n      <td>108.53</td>\n      <td>281.09</td>\n      <td>NaN</td>\n      <td>NaN</td>\n      <td>NaN</td>\n    </tr>\n    <tr>\n      <th>4</th>\n      <td>Staten Island</td>\n      <td>Richmond</td>\n      <td>476,179</td>\n      <td>14.514\\n</td>\n      <td>30,300</td>\n      <td>58.37</td>\n      <td>151.18</td>\n      <td>NaN</td>\n      <td>NaN</td>\n      <td>NaN</td>\n    </tr>\n    <tr>\n      <th>5</th>\n      <td>City of New York</td>\n      <td>8,398,748</td>\n      <td>842.343</td>\n      <td>97,700</td>\n      <td>302.64</td>\n      <td>783.83</td>\n      <td>28,188</td>\n      <td>NaN</td>\n      <td>NaN</td>\n      <td>NaN</td>\n    </tr>\n    <tr>\n      <th>6</th>\n      <td>State of New York</td>\n      <td>19,745,289</td>\n      <td>1,701.399</td>\n      <td>85,700</td>\n      <td>47,214</td>\n      <td>122,284</td>\n      <td>416.4</td>\n      <td>NaN</td>\n      <td>NaN</td>\n      <td>NaN</td>\n    </tr>\n    <tr>\n      <th>7</th>\n      <td>Sources:[14] and see individual borough articles</td>\n      <td>NaN</td>\n      <td>NaN</td>\n      <td>NaN</td>\n      <td>NaN</td>\n      <td>NaN</td>\n      <td>NaN</td>\n      <td>NaN</td>\n      <td>NaN</td>\n      <td>NaN</td>\n    </tr>\n  </tbody>\n</table>\n</div>",
                        "text/plain": "                                            Borough       County  \\\n0                                         The Bronx        Bronx   \n1                                          Brooklyn        Kings   \n2                                         Manhattan     New York   \n3                                            Queens       Queens   \n4                                     Staten Island     Richmond   \n5                                  City of New York    8,398,748   \n6                                 State of New York   19,745,289   \n7  Sources:[14] and see individual borough articles          NaN   \n\n  Estimate_2017 GrossDomesticProduct\\n square_miles square_km persons_sq_mi  \\\n0     1,432,132               42.695\\n       29,200     42.10        109.04   \n1     2,582,830               91.559\\n       34,600     70.82        183.42   \n2     1,628,701              600.244\\n      360,900     22.83         59.13   \n3     2,278,906               93.310\\n       39,600    108.53        281.09   \n4       476,179               14.514\\n       30,300     58.37        151.18   \n5       842.343                 97,700       302.64    783.83        28,188   \n6     1,701.399                 85,700       47,214   122,284         416.4   \n7           NaN                    NaN          NaN       NaN           NaN   \n\n   squarekm  persons/sq.mi  persons/km2\\n  \n0       NaN            NaN            NaN  \n1       NaN            NaN            NaN  \n2       NaN            NaN            NaN  \n3       NaN            NaN            NaN  \n4       NaN            NaN            NaN  \n5       NaN            NaN            NaN  \n6       NaN            NaN            NaN  \n7       NaN            NaN            NaN  "
                    },
                    "execution_count": 9,
                    "metadata": {},
                    "output_type": "execute_result"
                }
            ],
            "source": "i = Pop_data[((Pop_data.County == 'Sources: [2] and see individual borough articles'))].index\nPop_data.drop(i)"
        },
        {
            "cell_type": "code",
            "execution_count": 10,
            "metadata": {},
            "outputs": [],
            "source": "Pop_data.to_csv('BON2_POPULATION.csv',index=False)"
        },
        {
            "cell_type": "code",
            "execution_count": null,
            "metadata": {},
            "outputs": [],
            "source": ""
        }
    ],
    "metadata": {
        "kernelspec": {
            "display_name": "Python 3.6",
            "language": "python",
            "name": "python3"
        },
        "language_info": {
            "codemirror_mode": {
                "name": "ipython",
                "version": 3
            },
            "file_extension": ".py",
            "mimetype": "text/x-python",
            "name": "python",
            "nbconvert_exporter": "python",
            "pygments_lexer": "ipython3",
            "version": "3.6.9"
        }
    },
    "nbformat": 4,
    "nbformat_minor": 1
}